{
 "cells": [
  {
   "attachments": {},
   "cell_type": "markdown",
   "id": "f389afd4",
   "metadata": {},
   "source": [
    "# Data Science Tools and Ecosystem\n"
   ]
  },
  {
   "cell_type": "markdown",
   "id": "c683e0a6",
   "metadata": {},
   "source": [
    "In this notebook, Data Science Tools and Ecosystem are summarized."
   ]
  },
  {
   "cell_type": "markdown",
   "id": "813f1663",
   "metadata": {},
   "source": [
    "**Objectives:**\n",
    "- List of popular languages used by data scientists.\n",
    "- Commonly used libraries by data Scientists.\n",
    "- Open source data science tools."
   ]
  },
  {
   "cell_type": "markdown",
   "id": "bad361c8",
   "metadata": {},
   "source": [
    "#### Some of the popular languages that data scientists use are:\n",
    "1. Python\n",
    "2. R\n",
    "3. SQL\n",
    "4. Java\n",
    "5. Julia\n",
    "6. Scala\n",
    "7. C/C++"
   ]
  },
  {
   "cell_type": "markdown",
   "id": "0f7d202a",
   "metadata": {},
   "source": [
    "#### Some of the commonly used libraries used by Data Scientists include:\n",
    "1. Numpy\n",
    "2. Pandas\n",
    "3. Scikit-learn\n",
    "4. Metplotlib\n",
    "5. Scipy"
   ]
  },
  {
   "cell_type": "markdown",
   "id": "4b1d3d88",
   "metadata": {},
   "source": [
    "|Data Science Tools|\n",
    "-----------------------------\n",
    "|Jupyter Notebook|\n",
    "|RStudio|\n",
    "|Google Colab|"
   ]
  },
  {
   "cell_type": "markdown",
   "id": "6903c192",
   "metadata": {},
   "source": [
    "### Below are a few examples of evaluating arithmetic expressions in Python:\n"
   ]
  },
  {
   "cell_type": "code",
   "execution_count": 2,
   "id": "24606277",
   "metadata": {},
   "outputs": [
    {
     "name": "stdout",
     "output_type": "stream",
     "text": [
      "17\n"
     ]
    }
   ],
   "source": [
    "# This a simple arithmetic expression to mutiply then add integers\n",
    "print((3*4)+5)"
   ]
  },
  {
   "cell_type": "code",
   "execution_count": 3,
   "id": "69329663",
   "metadata": {},
   "outputs": [
    {
     "name": "stdout",
     "output_type": "stream",
     "text": [
      "3.3333333333333335\n"
     ]
    }
   ],
   "source": [
    "# This will convert 200 minutes to hours by diving by 60\n",
    "minute_val = 200\n",
    "hours_result = minute_val/60\n",
    "print(hours_result)"
   ]
  },
  {
   "cell_type": "markdown",
   "id": "ddb88e45",
   "metadata": {},
   "source": [
    "## Author: \n",
    "Sharad Kumar Rajbhandari"
   ]
  },
  {
   "cell_type": "code",
   "execution_count": null,
   "id": "caeb6c13",
   "metadata": {},
   "outputs": [],
   "source": []
  }
 ],
 "metadata": {
  "kernelspec": {
   "display_name": "Python 3 (ipykernel)",
   "language": "python",
   "name": "python3"
  },
  "language_info": {
   "codemirror_mode": {
    "name": "ipython",
    "version": 3
   },
   "file_extension": ".py",
   "mimetype": "text/x-python",
   "name": "python",
   "nbconvert_exporter": "python",
   "pygments_lexer": "ipython3",
   "version": "3.11.5"
  }
 },
 "nbformat": 4,
 "nbformat_minor": 5
}
